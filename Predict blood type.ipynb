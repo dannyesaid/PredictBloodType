{
 "cells": [
  {
   "cell_type": "code",
   "execution_count": 10,
   "metadata": {},
   "outputs": [],
   "source": [
    "import os\n",
    "import csv\n",
    "import shutil\n",
    "import matplotlib.pyplot\n",
    "from keras.preprocessing.image import ImageDataGenerator\n",
    "from keras.layers import Dense, Dropout\n",
    "from keras.models import Sequential\n",
    "from keras import optimizers\n",
    "from keras.applications import VGG16\n",
    "from PIL import Image\n",
    "\n"
   ]
  },
  {
   "cell_type": "code",
   "execution_count": 15,
   "metadata": {},
   "outputs": [],
   "source": [
    "\n",
    "#create strings for directories\n",
    "baseDirectory = r'C:\\Users\\Administrator\\Desktop\\Personal-Projects-Blood-Type-Prediction\\Dataset'\n",
    "finalTrainDirectory = r'C:\\Users\\Administrator\\Desktop\\Personal-Projects-Blood-Type-Prediction\\Dataset\\FINALTRAIN'\n",
    "testDirectory = r'C:\\Users\\Administrator\\Desktop\\Personal-Projects-Blood-Type-Prediction\\Dataset\\TEST'\n",
    "trainDirectory = r'C:\\Users\\Administrator\\Desktop\\Personal-Projects-Blood-Type-Prediction\\Dataset\\TRAIN'\n",
    "validationDirectory = r'C:\\Users\\Administrator\\Desktop\\Personal-Projects-Blood-Type-Prediction\\Dataset\\VALIDATION'\n",
    "\n"
   ]
  },
  {
   "cell_type": "code",
   "execution_count": 22,
   "metadata": {},
   "outputs": [
    {
     "name": "stdout",
     "output_type": "stream",
     "text": [
      "Found 9957 images belonging to 4 classes.\n",
      "Found 2487 images belonging to 4 classes.\n",
      "Found 7957 images belonging to 4 classes.\n",
      "Found 2000 images belonging to 4 classes.\n"
     ]
    }
   ],
   "source": [
    "\n",
    "#create generators for images\n",
    "finalTrainGenerator = ImageDataGenerator( rescale = (1/255) )\n",
    "testGenerator = ImageDataGenerator( rescale = (1/255) )\n",
    "trainGenerator = ImageDataGenerator( rescale = (1/255) )\n",
    "validationGenerator = ImageDataGenerator( rescale = (1/255) )\n",
    "\n",
    "\n",
    "#create directory iterators from generators\n",
    "finalTrainDirectoryIterator = finalTrainGenerator.flow_from_directory( directory = finalTrainDirectory,\n",
    "                                                                        target_size = (256, 256),\n",
    "                                                                        class_mode = 'categorical',\n",
    "                                                                        batch_size = 128 )\n",
    "\n",
    "testDirectoryIterator = testGenerator.flow_from_directory( directory = testDirectory,\n",
    "                                                                        target_size = (256, 256),\n",
    "                                                                        class_mode = 'categorical',\n",
    "                                                                        batch_size = 128 )\n",
    "\n",
    "trainDirectoryIterator = trainGenerator.flow_from_directory( directory = trainDirectory,\n",
    "                                                                        target_size = (256, 256),\n",
    "                                                                        class_mode = 'categorical',\n",
    "                                                                        batch_size = 128 )\n",
    "\n",
    "validationDirectoryIterator = validationGenerator.flow_from_directory( directory = validationDirectory,\n",
    "                                                                        target_size = (256, 256),\n",
    "                                                                        class_mode = 'categorical',\n",
    "                                                                        batch_size = 128 )\n",
    "\n"
   ]
  },
  {
   "cell_type": "code",
   "execution_count": 14,
   "metadata": {},
   "outputs": [],
   "source": [
    "#create the convolutional base \n",
    "convolutionalBase = VGG16( weights = 'imagenet',\n",
    "                           include_top = False,\n",
    "                           input_shape = ( 150, 150, 3 ) )\n",
    "\n",
    "#create the dense layer to stick on top of the base\n",
    "sequentialTop = Sequential()\n",
    "sequentialTop.add( Dense( 256, activation = 'relu', input_dim = 8192 ) )\n",
    "sequentialTop.add( Dropout( 0.5 ) )\n",
    "sequentialTop.add( Dense( 4, activation = 'sigmoid' ) )\n",
    "\n",
    "#compile the sequential top\n",
    "sequentialTop.compile( optimizer = 'rmsprop',\n",
    "                       loss = 'categorical_crossentropy',\n",
    "                       metrics = [ 'acc' ] )\n",
    "\n",
    "\n",
    "\n"
   ]
  }
 ],
 "metadata": {
  "kernelspec": {
   "display_name": "Python 3",
   "language": "python",
   "name": "python3"
  },
  "language_info": {
   "codemirror_mode": {
    "name": "ipython",
    "version": 3
   },
   "file_extension": ".py",
   "mimetype": "text/x-python",
   "name": "python",
   "nbconvert_exporter": "python",
   "pygments_lexer": "ipython3",
   "version": "3.5.4"
  }
 },
 "nbformat": 4,
 "nbformat_minor": 2
}
