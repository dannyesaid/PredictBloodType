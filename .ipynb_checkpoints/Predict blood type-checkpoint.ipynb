{
 "cells": [
  {
   "cell_type": "code",
   "execution_count": 117,
   "metadata": {},
   "outputs": [],
   "source": [
    "import os\n",
    "import csv\n",
    "import shutil\n",
    "import tensorflow\n",
    "import matplotlib.pyplot\n",
    "from keras.preprocessing.image import ImageDataGenerator\n",
    "from keras import layers\n",
    "from keras import models\n",
    "from keras import optimizers\n",
    "from PIL import Image\n",
    "\n"
   ]
  },
  {
   "cell_type": "code",
   "execution_count": 116,
   "metadata": {},
   "outputs": [],
   "source": [
    "#paths and lists\n",
    "\n",
    "baseDirectory = r'C:\\Users\\Administrator\\Desktop\\Personal-Projects-Blood-Type-Prediction\\Dataset'\n",
    "\n",
    "trainDirectory = r'C:\\Users\\Administrator\\Desktop\\Personal-Projects-Blood-Type-Prediction\\Dataset\\TRAIN'\n",
    "\n",
    "validationDirectory = r'C:\\Users\\Administrator\\Desktop\\Personal-Projects-Blood-Type-Prediction\\Dataset\\VALIDATION'\n",
    "\n",
    "finalTrainDirectory = r'C:\\Users\\Administrator\\Desktop\\Personal-Projects-Blood-Type-Prediction\\Dataset\\FINALTRAIN'\n",
    "\n",
    "directoriesList = [ 'TRAIN', 'TEST', 'VALIDATION' ]\n",
    "\n",
    "subDirectoriesList = [ 'EOSINOPHIL', 'LYMPHOCYTE', 'MONOCYTE', 'NEUTROPHIL' ]\n"
   ]
  },
  {
   "cell_type": "code",
   "execution_count": 100,
   "metadata": {},
   "outputs": [],
   "source": [
    "#create validation directory and final train directory \n",
    "\n",
    "# os.chdir( baseDirectory )\n",
    "# os.mkdir( 'VAIDATION' )\n",
    "\n",
    "# os.chdir( validationDirectory )\n",
    "# os.mkdir( 'EOSINOPHIL' )\n",
    "# os.mkdir( 'LYMPHOCYTE' )\n",
    "# os.mkdir( 'MONOCYTE' )\n",
    "# os.mkdir( 'NEUTROPHIL' )\n",
    "\n",
    "\n",
    "# os.chdir( baseDirectory )\n",
    "# os.mkdir( 'FINALTRAIN' )\n",
    "\n",
    "# os.chdir( FinalTrainDirectory )\n",
    "# os.mkdir( 'EOSINOPHIL' )\n",
    "# os.mkdir( 'LYMPHOCYTE' )\n",
    "# os.mkdir( 'MONOCYTE' )\n",
    "# os.mkdir( 'NEUTROPHIL' )\n",
    "\n",
    "\n",
    "\n"
   ]
  },
  {
   "cell_type": "code",
   "execution_count": 16,
   "metadata": {},
   "outputs": [],
   "source": [
    "#rename files\n",
    "\n",
    "# fileCounter = 0\n",
    "# for directory in directoriesList:\n",
    "#     newDirectory = baseDirectory + '\\\\' + directory\n",
    "#     os.chdir( newDirectory )\n",
    "    \n",
    "#     for subDirectory in subDirectoriesList:\n",
    "#         subDirectoryToAccess = newDirectory + '\\\\' + subDirectory\n",
    "        \n",
    "#         os.chdir( subDirectoryToAccess )\n",
    "        \n",
    "#         fileNames = os.listdir()\n",
    "#         for fileIndex in range( len( fileNames ) ):\n",
    "#             os.rename( fileNames[ fileIndex ], 'CI-' + str( fileCounter ) + '-' + subDirectory + '.jpeg' )\n",
    "#             fileCounter += 1\n"
   ]
  },
  {
   "cell_type": "code",
   "execution_count": 6,
   "metadata": {},
   "outputs": [],
   "source": [
    "#move files from train directory to validation directory\n",
    "\n",
    "# os.chdir( trainDirectory )\n",
    "\n",
    "# for subDirectory in subDirectoriesList:\n",
    "#     subDirectoryToAccess = trainDirectory + '\\\\' + subDirectory\n",
    "    \n",
    "#     os.chdir( subDirectoryToAccess )\n",
    "\n",
    "#     fileNames = os.listdir()\n",
    "\n",
    "#     for imageIndex in range( 500 ):\n",
    "#         currentFilePath = trainDirectory + '\\\\' + subDirectory + '\\\\' + fileNames[ imageIndex ]\n",
    "\n",
    "#         newFilePath = validationDirectory + '\\\\' + subDirectory + '\\\\' + fileNames[ imageIndex ] \n",
    "\n",
    "#         shutil.move( currentFilePath, newFilePath )\n",
    "            "
   ]
  },
  {
   "cell_type": "code",
   "execution_count": 109,
   "metadata": {},
   "outputs": [],
   "source": [
    "#populate final train directory\n",
    "\n",
    "# for subDirectory in subDirectoriesList:\n",
    "#     trainSubDirectoryToAccess = trainDirectory + '\\\\' + subDirectory\n",
    "#     os.chdir( trainSubDirectoryToAccess )\n",
    "    \n",
    "#     trainFileNamesList = os.listdir()\n",
    "#     finalTrainSubdirectoryToAccess = finalTrainDirectory + '\\\\' + subDirectory\n",
    "    \n",
    "#     for trainFileName in trainFileNamesList:\n",
    "#         shutil.copy2( trainFileName, finalTrainSubdirectoryToAccess )\n",
    "\n",
    "        \n",
    "        \n",
    "# for subDirectory in subDirectoriesList:\n",
    "#     validationSubDirectoryToAccess = validationDirectory + '\\\\' + subDirectory\n",
    "#     os.chdir( validationSubDirectoryToAccess )\n",
    "    \n",
    "#     validationFileNamesList = os.listdir()\n",
    "#     finalTrainSubdirectoryToAccess = finalTrainDirectory + '\\\\' + subDirectory\n",
    "    \n",
    "#     for validationFileName in validationFileNamesList:\n",
    "#         shutil.copy2( validationFileName, finalTrainSubdirectoryToAccess )"
   ]
  },
  {
   "cell_type": "code",
   "execution_count": 135,
   "metadata": {},
   "outputs": [],
   "source": [
    "#create convolutional model\n",
    "\n",
    "convolutionalModel = models.Sequential()\n",
    "\n",
    "convolutionalModel.add( layers.Conv2D( 32, (3, 3), \n",
    "                        activation = 'relu', input_shape = (150, 150, 3) ) )\n",
    "\n",
    "convolutionalModel.add( layers.MaxPooling2D( (2, 2) ) )\n",
    "\n",
    "convolutionalModel.add( layers.Conv2D( 64, (3, 3), activation = 'relu' ) )\n",
    "\n",
    "convolutionalModel.add( layers.MaxPooling2D( (2, 2) ) )\n",
    "\n",
    "convolutionalModel.add( layers.Conv2D( 128, (3, 3), activation = 'relu' ) )\n",
    "\n",
    "convolutionalModel.add( layers.MaxPooling2D( (2, 2) ) )\n",
    "\n",
    "convolutionalModel.add( layers.Flatten() )\n",
    "\n",
    "convolutionalModel.add( layers.Dropout( 0.30 ) )\n",
    "\n",
    "convolutionalModel.add( layers.Dense( 512, activation = 'relu' ) )\n",
    "convolutionalModel.add( layers.Dense( 4, activation = 'sigmoid' ) )\n",
    "\n",
    "\n",
    "convolutionalModel.compile( loss = 'categorical_crossentropy',\n",
    "                            optimizer = optimizers.RMSprop( lr = 5e-5 ),\n",
    "                            metrics = [ 'acc' ])\n"
   ]
  },
  {
   "cell_type": "code",
   "execution_count": 136,
   "metadata": {},
   "outputs": [
    {
     "name": "stdout",
     "output_type": "stream",
     "text": [
      "Found 7957 images belonging to 4 classes.\n",
      "Found 2000 images belonging to 4 classes.\n"
     ]
    }
   ],
   "source": [
    "#create train and validation generators\n",
    "\n",
    "trainDataGenerator = ImageDataGenerator( rescale = (1/255) )\n",
    "\n",
    "validationDataGenerator = ImageDataGenerator( rescale = (1/255) )\n",
    "\n",
    "os.chdir( baseDirectory )\n",
    "\n",
    "trainGenerator = trainDataGenerator.flow_from_directory('TRAIN',\n",
    "                                                        target_size = (150, 150),\n",
    "                                                        batch_size = 100,\n",
    "                                                        class_mode = 'categorical')\n",
    "\n",
    "\n",
    "validationGenerator = validationDataGenerator.flow_from_directory('VALIDATION',\n",
    "                                                                    target_size = (150, 150),\n",
    "                                                                    batch_size = 100,\n",
    "                                                                    class_mode = 'categorical')\n",
    "\n"
   ]
  },
  {
   "cell_type": "code",
   "execution_count": 137,
   "metadata": {},
   "outputs": [
    {
     "name": "stdout",
     "output_type": "stream",
     "text": [
      "Epoch 1/70\n",
      "54/80 [===================>..........] - ETA: 5s - loss: 1.3923 - acc: 0.2473"
     ]
    },
    {
     "ename": "KeyboardInterrupt",
     "evalue": "",
     "output_type": "error",
     "traceback": [
      "\u001b[1;31m---------------------------------------------------------------------------\u001b[0m",
      "\u001b[1;31mKeyboardInterrupt\u001b[0m                         Traceback (most recent call last)",
      "\u001b[1;32m<ipython-input-137-c2e039420602>\u001b[0m in \u001b[0;36m<module>\u001b[1;34m()\u001b[0m\n\u001b[0;32m      5\u001b[0m                                                         \u001b[0mepochs\u001b[0m \u001b[1;33m=\u001b[0m \u001b[1;36m70\u001b[0m\u001b[1;33m,\u001b[0m\u001b[1;33m\u001b[0m\u001b[0m\n\u001b[0;32m      6\u001b[0m                                                         \u001b[0mvalidation_data\u001b[0m \u001b[1;33m=\u001b[0m \u001b[0mvalidationGenerator\u001b[0m\u001b[1;33m,\u001b[0m\u001b[1;33m\u001b[0m\u001b[0m\n\u001b[1;32m----> 7\u001b[1;33m                                                         validation_steps = 20)\n\u001b[0m",
      "\u001b[1;32mc:\\programdata\\anaconda3\\envs\\mxnet\\lib\\site-packages\\keras\\legacy\\interfaces.py\u001b[0m in \u001b[0;36mwrapper\u001b[1;34m(*args, **kwargs)\u001b[0m\n\u001b[0;32m     89\u001b[0m                 warnings.warn('Update your `' + object_name +\n\u001b[0;32m     90\u001b[0m                               '` call to the Keras 2 API: ' + signature, stacklevel=2)\n\u001b[1;32m---> 91\u001b[1;33m             \u001b[1;32mreturn\u001b[0m \u001b[0mfunc\u001b[0m\u001b[1;33m(\u001b[0m\u001b[1;33m*\u001b[0m\u001b[0margs\u001b[0m\u001b[1;33m,\u001b[0m \u001b[1;33m**\u001b[0m\u001b[0mkwargs\u001b[0m\u001b[1;33m)\u001b[0m\u001b[1;33m\u001b[0m\u001b[0m\n\u001b[0m\u001b[0;32m     92\u001b[0m         \u001b[0mwrapper\u001b[0m\u001b[1;33m.\u001b[0m\u001b[0m_original_function\u001b[0m \u001b[1;33m=\u001b[0m \u001b[0mfunc\u001b[0m\u001b[1;33m\u001b[0m\u001b[0m\n\u001b[0;32m     93\u001b[0m         \u001b[1;32mreturn\u001b[0m \u001b[0mwrapper\u001b[0m\u001b[1;33m\u001b[0m\u001b[0m\n",
      "\u001b[1;32mc:\\programdata\\anaconda3\\envs\\mxnet\\lib\\site-packages\\keras\\engine\\training.py\u001b[0m in \u001b[0;36mfit_generator\u001b[1;34m(self, generator, steps_per_epoch, epochs, verbose, callbacks, validation_data, validation_steps, class_weight, max_queue_size, workers, use_multiprocessing, shuffle, initial_epoch)\u001b[0m\n\u001b[0;32m   1413\u001b[0m             \u001b[0muse_multiprocessing\u001b[0m\u001b[1;33m=\u001b[0m\u001b[0muse_multiprocessing\u001b[0m\u001b[1;33m,\u001b[0m\u001b[1;33m\u001b[0m\u001b[0m\n\u001b[0;32m   1414\u001b[0m             \u001b[0mshuffle\u001b[0m\u001b[1;33m=\u001b[0m\u001b[0mshuffle\u001b[0m\u001b[1;33m,\u001b[0m\u001b[1;33m\u001b[0m\u001b[0m\n\u001b[1;32m-> 1415\u001b[1;33m             initial_epoch=initial_epoch)\n\u001b[0m\u001b[0;32m   1416\u001b[0m \u001b[1;33m\u001b[0m\u001b[0m\n\u001b[0;32m   1417\u001b[0m     \u001b[1;33m@\u001b[0m\u001b[0minterfaces\u001b[0m\u001b[1;33m.\u001b[0m\u001b[0mlegacy_generator_methods_support\u001b[0m\u001b[1;33m\u001b[0m\u001b[0m\n",
      "\u001b[1;32mc:\\programdata\\anaconda3\\envs\\mxnet\\lib\\site-packages\\keras\\engine\\training_generator.py\u001b[0m in \u001b[0;36mfit_generator\u001b[1;34m(model, generator, steps_per_epoch, epochs, verbose, callbacks, validation_data, validation_steps, class_weight, max_queue_size, workers, use_multiprocessing, shuffle, initial_epoch)\u001b[0m\n\u001b[0;32m    211\u001b[0m                 outs = model.train_on_batch(x, y,\n\u001b[0;32m    212\u001b[0m                                             \u001b[0msample_weight\u001b[0m\u001b[1;33m=\u001b[0m\u001b[0msample_weight\u001b[0m\u001b[1;33m,\u001b[0m\u001b[1;33m\u001b[0m\u001b[0m\n\u001b[1;32m--> 213\u001b[1;33m                                             class_weight=class_weight)\n\u001b[0m\u001b[0;32m    214\u001b[0m \u001b[1;33m\u001b[0m\u001b[0m\n\u001b[0;32m    215\u001b[0m                 \u001b[0mouts\u001b[0m \u001b[1;33m=\u001b[0m \u001b[0mto_list\u001b[0m\u001b[1;33m(\u001b[0m\u001b[0mouts\u001b[0m\u001b[1;33m)\u001b[0m\u001b[1;33m\u001b[0m\u001b[0m\n",
      "\u001b[1;32mc:\\programdata\\anaconda3\\envs\\mxnet\\lib\\site-packages\\keras\\engine\\training.py\u001b[0m in \u001b[0;36mtrain_on_batch\u001b[1;34m(self, x, y, sample_weight, class_weight)\u001b[0m\n\u001b[0;32m   1213\u001b[0m             \u001b[0mins\u001b[0m \u001b[1;33m=\u001b[0m \u001b[0mx\u001b[0m \u001b[1;33m+\u001b[0m \u001b[0my\u001b[0m \u001b[1;33m+\u001b[0m \u001b[0msample_weights\u001b[0m\u001b[1;33m\u001b[0m\u001b[0m\n\u001b[0;32m   1214\u001b[0m         \u001b[0mself\u001b[0m\u001b[1;33m.\u001b[0m\u001b[0m_make_train_function\u001b[0m\u001b[1;33m(\u001b[0m\u001b[1;33m)\u001b[0m\u001b[1;33m\u001b[0m\u001b[0m\n\u001b[1;32m-> 1215\u001b[1;33m         \u001b[0moutputs\u001b[0m \u001b[1;33m=\u001b[0m \u001b[0mself\u001b[0m\u001b[1;33m.\u001b[0m\u001b[0mtrain_function\u001b[0m\u001b[1;33m(\u001b[0m\u001b[0mins\u001b[0m\u001b[1;33m)\u001b[0m\u001b[1;33m\u001b[0m\u001b[0m\n\u001b[0m\u001b[0;32m   1216\u001b[0m         \u001b[1;32mreturn\u001b[0m \u001b[0munpack_singleton\u001b[0m\u001b[1;33m(\u001b[0m\u001b[0moutputs\u001b[0m\u001b[1;33m)\u001b[0m\u001b[1;33m\u001b[0m\u001b[0m\n\u001b[0;32m   1217\u001b[0m \u001b[1;33m\u001b[0m\u001b[0m\n",
      "\u001b[1;32mc:\\programdata\\anaconda3\\envs\\mxnet\\lib\\site-packages\\keras\\backend\\tensorflow_backend.py\u001b[0m in \u001b[0;36m__call__\u001b[1;34m(self, inputs)\u001b[0m\n\u001b[0;32m   2664\u001b[0m                 \u001b[1;32mreturn\u001b[0m \u001b[0mself\u001b[0m\u001b[1;33m.\u001b[0m\u001b[0m_legacy_call\u001b[0m\u001b[1;33m(\u001b[0m\u001b[0minputs\u001b[0m\u001b[1;33m)\u001b[0m\u001b[1;33m\u001b[0m\u001b[0m\n\u001b[0;32m   2665\u001b[0m \u001b[1;33m\u001b[0m\u001b[0m\n\u001b[1;32m-> 2666\u001b[1;33m             \u001b[1;32mreturn\u001b[0m \u001b[0mself\u001b[0m\u001b[1;33m.\u001b[0m\u001b[0m_call\u001b[0m\u001b[1;33m(\u001b[0m\u001b[0minputs\u001b[0m\u001b[1;33m)\u001b[0m\u001b[1;33m\u001b[0m\u001b[0m\n\u001b[0m\u001b[0;32m   2667\u001b[0m         \u001b[1;32melse\u001b[0m\u001b[1;33m:\u001b[0m\u001b[1;33m\u001b[0m\u001b[0m\n\u001b[0;32m   2668\u001b[0m             \u001b[1;32mif\u001b[0m \u001b[0mpy_any\u001b[0m\u001b[1;33m(\u001b[0m\u001b[0mis_tensor\u001b[0m\u001b[1;33m(\u001b[0m\u001b[0mx\u001b[0m\u001b[1;33m)\u001b[0m \u001b[1;32mfor\u001b[0m \u001b[0mx\u001b[0m \u001b[1;32min\u001b[0m \u001b[0minputs\u001b[0m\u001b[1;33m)\u001b[0m\u001b[1;33m:\u001b[0m\u001b[1;33m\u001b[0m\u001b[0m\n",
      "\u001b[1;32mc:\\programdata\\anaconda3\\envs\\mxnet\\lib\\site-packages\\keras\\backend\\tensorflow_backend.py\u001b[0m in \u001b[0;36m_call\u001b[1;34m(self, inputs)\u001b[0m\n\u001b[0;32m   2634\u001b[0m                                 \u001b[0msymbol_vals\u001b[0m\u001b[1;33m,\u001b[0m\u001b[1;33m\u001b[0m\u001b[0m\n\u001b[0;32m   2635\u001b[0m                                 session)\n\u001b[1;32m-> 2636\u001b[1;33m         \u001b[0mfetched\u001b[0m \u001b[1;33m=\u001b[0m \u001b[0mself\u001b[0m\u001b[1;33m.\u001b[0m\u001b[0m_callable_fn\u001b[0m\u001b[1;33m(\u001b[0m\u001b[1;33m*\u001b[0m\u001b[0marray_vals\u001b[0m\u001b[1;33m)\u001b[0m\u001b[1;33m\u001b[0m\u001b[0m\n\u001b[0m\u001b[0;32m   2637\u001b[0m         \u001b[1;32mreturn\u001b[0m \u001b[0mfetched\u001b[0m\u001b[1;33m[\u001b[0m\u001b[1;33m:\u001b[0m\u001b[0mlen\u001b[0m\u001b[1;33m(\u001b[0m\u001b[0mself\u001b[0m\u001b[1;33m.\u001b[0m\u001b[0moutputs\u001b[0m\u001b[1;33m)\u001b[0m\u001b[1;33m]\u001b[0m\u001b[1;33m\u001b[0m\u001b[0m\n\u001b[0;32m   2638\u001b[0m \u001b[1;33m\u001b[0m\u001b[0m\n",
      "\u001b[1;32mc:\\programdata\\anaconda3\\envs\\mxnet\\lib\\site-packages\\tensorflow\\python\\client\\session.py\u001b[0m in \u001b[0;36m__call__\u001b[1;34m(self, *args, **kwargs)\u001b[0m\n\u001b[0;32m   1380\u001b[0m           ret = tf_session.TF_SessionRunCallable(\n\u001b[0;32m   1381\u001b[0m               \u001b[0mself\u001b[0m\u001b[1;33m.\u001b[0m\u001b[0m_session\u001b[0m\u001b[1;33m.\u001b[0m\u001b[0m_session\u001b[0m\u001b[1;33m,\u001b[0m \u001b[0mself\u001b[0m\u001b[1;33m.\u001b[0m\u001b[0m_handle\u001b[0m\u001b[1;33m,\u001b[0m \u001b[0margs\u001b[0m\u001b[1;33m,\u001b[0m \u001b[0mstatus\u001b[0m\u001b[1;33m,\u001b[0m\u001b[1;33m\u001b[0m\u001b[0m\n\u001b[1;32m-> 1382\u001b[1;33m               run_metadata_ptr)\n\u001b[0m\u001b[0;32m   1383\u001b[0m         \u001b[1;32mif\u001b[0m \u001b[0mrun_metadata\u001b[0m\u001b[1;33m:\u001b[0m\u001b[1;33m\u001b[0m\u001b[0m\n\u001b[0;32m   1384\u001b[0m           \u001b[0mproto_data\u001b[0m \u001b[1;33m=\u001b[0m \u001b[0mtf_session\u001b[0m\u001b[1;33m.\u001b[0m\u001b[0mTF_GetBuffer\u001b[0m\u001b[1;33m(\u001b[0m\u001b[0mrun_metadata_ptr\u001b[0m\u001b[1;33m)\u001b[0m\u001b[1;33m\u001b[0m\u001b[0m\n",
      "\u001b[1;31mKeyboardInterrupt\u001b[0m: "
     ]
    }
   ],
   "source": [
    "#train the model\n",
    "\n",
    "convolutionalHistory = convolutionalModel.fit_generator(trainGenerator,\n",
    "                                                        steps_per_epoch = 80,\n",
    "                                                        epochs = 70,\n",
    "                                                        validation_data = validationGenerator,\n",
    "                                                        validation_steps = 20)\n",
    "\n"
   ]
  },
  {
   "cell_type": "code",
   "execution_count": 110,
   "metadata": {},
   "outputs": [],
   "source": [
    "#save the model\n",
    "\n",
    "convolutionalModel.save( 'classifyBloodTypes.h5' )\n",
    "\n",
    "\n",
    "#retrieve the history from training the model\n",
    "\n",
    "convolutionalHistory = convolutionalHistory.history"
   ]
  },
  {
   "cell_type": "code",
   "execution_count": 114,
   "metadata": {},
   "outputs": [
    {
     "data": {
      "image/png": "[encoded data removed]",
      "text/plain": [
       "<Figure size 432x288 with 1 Axes>"
      ]
     },
     "metadata": {},
     "output_type": "display_data"
    },
    {
     "data": {
      "image/png": "[encoded data removed]",
      "text/plain": [
       "<Figure size 432x288 with 1 Axes>"
      ]
     },
     "metadata": {},
     "output_type": "display_data"
    },
    {
     "data": {
      "text/plain": [
       "<Figure size 432x288 with 0 Axes>"
      ]
     },
     "metadata": {},
     "output_type": "display_data"
    }
   ],
   "source": [
    "#plot the validation loss and the loss\n",
    "\n",
    "numberOfEpochs = range(30)\n",
    "\n",
    "lossHistory = convolutionalHistory[ 'loss' ]\n",
    "\n",
    "validationLossHistory = convolutionalHistory[ 'val_loss' ]\n",
    "\n",
    "matplotlib.pyplot.plot( numberOfEpochs, lossHistory, 'bo', label = 'training loss' )\n",
    "\n",
    "matplotlib.pyplot.plot( numberOfEpochs, validationLossHistory, 'b', label = 'validation loss' )\n",
    "\n",
    "matplotlib.pyplot.title( 'training and validation loss' )\n",
    "\n",
    "matplotlib.pyplot.legend()\n",
    "\n",
    "matplotlib.pyplot.figure()\n",
    "\n",
    "\n",
    "\n",
    "\n",
    "accuracyHistory = convolutionalHistory[ 'acc' ]\n",
    "\n",
    "validationAccuracyHistory = convolutionalHistory[ 'val_acc' ]\n",
    "\n",
    "matplotlib.pyplot.plot( numberOfEpochs, accuracyHistory, 'bo', label = 'training accuracy' )\n",
    "\n",
    "matplotlib.pyplot.plot( numberOfEpochs, validationAccuracyHistory, 'b', label = 'validation accuracy' )\n",
    "\n",
    "matplotlib.pyplot.title( 'training and validation accuracy' )\n",
    "\n",
    "matplotlib.pyplot.legend()\n",
    "\n",
    "matplotlib.pyplot.figure()\n",
    "\n",
    "matplotlib.pyplot.show()\n",
    "\n",
    "\n",
    "\n",
    "\n",
    "\n"
   ]
  }
 ],
 "metadata": {
  "kernelspec": {
   "display_name": "Python 3",
   "language": "python",
   "name": "python3"
  },
  "language_info": {
   "codemirror_mode": {
    "name": "ipython",
    "version": 3
   },
   "file_extension": ".py",
   "mimetype": "text/x-python",
   "name": "python",
   "nbconvert_exporter": "python",
   "pygments_lexer": "ipython3",
   "version": "3.5.4"
  }
 },
 "nbformat": 4,
 "nbformat_minor": 2
}
