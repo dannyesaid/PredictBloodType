{
 "cells": [
  {
   "cell_type": "code",
   "execution_count": 10,
   "metadata": {},
   "outputs": [],
   "source": [
    "import os\n",
    "import csv\n",
    "import shutil\n",
    "from keras.preprocessing.image import ImageDataGenerator\n",
    "from keras import layers\n",
    "from keras import models\n",
    "\n"
   ]
  },
  {
   "cell_type": "code",
   "execution_count": 16,
   "metadata": {},
   "outputs": [
    {
     "name": "stdout",
     "output_type": "stream",
     "text": [
      "_________________________________________________________________\n",
      "Layer (type)                 Output Shape              Param #   \n",
      "=================================================================\n",
      "conv2d_7 (Conv2D)            (None, 148, 148, 32)      896       \n",
      "_________________________________________________________________\n",
      "max_pooling2d_7 (MaxPooling2 (None, 74, 74, 32)        0         \n",
      "_________________________________________________________________\n",
      "conv2d_8 (Conv2D)            (None, 72, 72, 64)        18496     \n",
      "_________________________________________________________________\n",
      "max_pooling2d_8 (MaxPooling2 (None, 36, 36, 64)        0         \n",
      "_________________________________________________________________\n",
      "conv2d_9 (Conv2D)            (None, 34, 34, 128)       73856     \n",
      "_________________________________________________________________\n",
      "max_pooling2d_9 (MaxPooling2 (None, 17, 17, 128)       0         \n",
      "_________________________________________________________________\n",
      "flatten_3 (Flatten)          (None, 36992)             0         \n",
      "_________________________________________________________________\n",
      "dense_3 (Dense)              (None, 512)               18940416  \n",
      "_________________________________________________________________\n",
      "dense_4 (Dense)              (None, 4)                 2052      \n",
      "=================================================================\n",
      "Total params: 19,035,716\n",
      "Trainable params: 19,035,716\n",
      "Non-trainable params: 0\n",
      "_________________________________________________________________\n"
     ]
    }
   ],
   "source": [
    "convolutionalModel = models.Sequential()\n",
    "\n",
    "convolutionalModel.add( layers.Conv2D( 32, (3, 3), \n",
    "                        activation = 'relu', input_shape = (150, 150, 3) ) )\n",
    "\n",
    "convolutionalModel.add( layers.MaxPooling2D( (2, 2) ) )\n",
    "\n",
    "convolutionalModel.add( layers.Conv2D( 64, (3, 3), activation = 'relu' ) )\n",
    "\n",
    "convolutionalModel.add( layers.MaxPooling2D( (2, 2) ) )\n",
    "\n",
    "convolutionalModel.add( layers.Conv2D( 128, (3, 3), activation = 'relu' ) )\n",
    "\n",
    "convolutionalModel.add( layers.MaxPooling2D( (2, 2) ) )\n",
    "\n",
    "convolutionalModel.add( layers.Flatten() )\n",
    "\n",
    "convolutionalModel.add( layers.Dense( 512, activation = 'relu' ) )\n",
    "\n",
    "convolutionalModel.add( layers.Dense( 4, activation = 'sigmoid' ) )\n",
    "\n",
    "convolutionalModel.summary()\n",
    "\n",
    "\n",
    "\n"
   ]
  }
 ],
 "metadata": {
  "kernelspec": {
   "display_name": "Python 3",
   "language": "python",
   "name": "python3"
  },
  "language_info": {
   "codemirror_mode": {
    "name": "ipython",
    "version": 3
   },
   "file_extension": ".py",
   "mimetype": "text/x-python",
   "name": "python",
   "nbconvert_exporter": "python",
   "pygments_lexer": "ipython3",
   "version": "3.6.5"
  }
 },
 "nbformat": 4,
 "nbformat_minor": 2
}
