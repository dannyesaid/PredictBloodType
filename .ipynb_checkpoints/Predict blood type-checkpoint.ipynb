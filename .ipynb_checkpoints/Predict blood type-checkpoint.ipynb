{
 "cells": [
  {
   "cell_type": "code",
   "execution_count": 2,
   "metadata": {},
   "outputs": [
    {
     "name": "stderr",
     "output_type": "stream",
     "text": [
      "Using TensorFlow backend.\n"
     ]
    }
   ],
   "source": [
    "import os\n",
    "import csv\n",
    "import shutil\n",
    "from keras.preprocessing.image import ImageDataGenerator\n",
    "from keras import layers\n",
    "from keras import models\n",
    "from keras import optimizers\n",
    "from PIL import Image\n",
    "\n"
   ]
  },
  {
   "cell_type": "code",
   "execution_count": 3,
   "metadata": {},
   "outputs": [],
   "source": [
    "convolutionalModel = models.Sequential()\n",
    "\n",
    "convolutionalModel.add( layers.Conv2D( 32, (3, 3), \n",
    "                        activation = 'relu', input_shape = (28, 28, 3) ) )\n",
    "\n",
    "convolutionalModel.add( layers.MaxPooling2D( (2, 2) ) )\n",
    "\n",
    "convolutionalModel.add( layers.Conv2D( 64, (3, 3), activation = 'relu' ) )\n",
    "\n",
    "convolutionalModel.add( layers.MaxPooling2D( (2, 2) ) )\n",
    "\n",
    "convolutionalModel.add( layers.Conv2D( 128, (3, 3), activation = 'relu' ) )\n",
    "\n",
    "convolutionalModel.add( layers.MaxPooling2D( (2, 2) ) )\n",
    "\n",
    "convolutionalModel.add( layers.Flatten() )\n",
    "\n",
    "convolutionalModel.add( layers.Dense( 512, activation = 'relu' ) )\n",
    "\n",
    "convolutionalModel.add( layers.Dense( 4, activation = 'sigmoid' ) )\n",
    "\n",
    "\n",
    "convolutionalModel.compile( loss = 'categorical_crossentropy',\n",
    "                            optimizer = optimizers.RMSprop( lr = 1e-3 ) )\n"
   ]
  },
  {
   "cell_type": "code",
   "execution_count": null,
   "metadata": {},
   "outputs": [],
   "source": [
    "trainDataGenerator = ImageDataGenerator( rescale = (1/255) )\n",
    "testDataGenerator = ImageDataGenerator( rescale = (1/255) )\n",
    "\n",
    "trainGenerator = trainDataGenerator.flow_from_directory( \n",
    "                                    \"dataset\\\\train\",\n",
    "                                    target_size = (28, 28),\n",
    "                                    batch_size = 20,\n",
    "                                    class_mode = 'categorical' )\n",
    "\n",
    "validationGenerator = testDataGenerator.flow_from_directory(\n",
    "                                        'dataset\\\\validation',\n",
    "                                        target_size = ( 28, 28 ),\n",
    "                                        batch_size = 20,\n",
    "                                        class_mode = 'categorical')\n",
    "\n",
    "convolutionalHistory = convolutionalModel.fit_generator( \n",
    "                                trainGenerator,\n",
    "                                steps_per_epoch = 20,\n",
    "                                epochs = 5,\n",
    "                                validation_data = validationGenerator,\n",
    "                                validation_steps = 10 )\n",
    "\n",
    "\n"
   ]
  }
 ],
 "metadata": {
  "kernelspec": {
   "display_name": "Python 3",
   "language": "python",
   "name": "python3"
  },
  "language_info": {
   "codemirror_mode": {
    "name": "ipython",
    "version": 3
   },
   "file_extension": ".py",
   "mimetype": "text/x-python",
   "name": "python",
   "nbconvert_exporter": "python",
   "pygments_lexer": "ipython3",
   "version": "3.6.5"
  }
 },
 "nbformat": 4,
 "nbformat_minor": 2
}
