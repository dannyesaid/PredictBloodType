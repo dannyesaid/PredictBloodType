{
 "cells": [
  {
   "cell_type": "code",
   "execution_count": 34,
   "metadata": {},
   "outputs": [],
   "source": [
    "import os\n",
    "import csv\n",
    "import shutil\n",
    "import matplotlib.pyplot\n",
    "from keras.preprocessing.image import ImageDataGenerator\n",
    "from keras.layers import Dense, Dropout, Flatten\n",
    "from keras.models import Sequential\n",
    "from keras import optimizers\n",
    "from keras.applications import VGG16\n",
    "from PIL import Image\n",
    "\n"
   ]
  },
  {
   "cell_type": "code",
   "execution_count": null,
   "metadata": {},
   "outputs": [],
   "source": []
  },
  {
   "cell_type": "code",
   "execution_count": 35,
   "metadata": {},
   "outputs": [],
   "source": [
    "\n",
    "#create strings for directory access\n",
    "baseDirectory = r'C:\\Users\\Administrator\\Desktop\\Personal-Projects-Blood-Type-Prediction\\Dataset'\n",
    "finalTrainDirectory = r'C:\\Users\\Administrator\\Desktop\\Personal-Projects-Blood-Type-Prediction\\Dataset\\FINALTRAIN'\n",
    "testDirectory = r'C:\\Users\\Administrator\\Desktop\\Personal-Projects-Blood-Type-Prediction\\Dataset\\TEST'\n",
    "trainDirectory = r'C:\\Users\\Administrator\\Desktop\\Personal-Projects-Blood-Type-Prediction\\Dataset\\TRAIN'\n",
    "validationDirectory = r'C:\\Users\\Administrator\\Desktop\\Personal-Projects-Blood-Type-Prediction\\Dataset\\VALIDATION'\n"
   ]
  },
  {
   "cell_type": "code",
   "execution_count": 36,
   "metadata": {},
   "outputs": [
    {
     "name": "stdout",
     "output_type": "stream",
     "text": [
      "Found 9957 images belonging to 4 classes.\n",
      "Found 2487 images belonging to 4 classes.\n",
      "Found 7957 images belonging to 4 classes.\n",
      "Found 2000 images belonging to 4 classes.\n"
     ]
    }
   ],
   "source": [
    "\n",
    "#create generators for images\n",
    "finalTrainGenerator = ImageDataGenerator(rescale = (1/255))\n",
    "testGenerator = ImageDataGenerator(rescale = (1/255))\n",
    "trainGenerator = ImageDataGenerator(rescale = (1/255))\n",
    "validationGenerator = ImageDataGenerator(rescale = (1/255))\n",
    "\n",
    "\n",
    "#create directory iterators from generators\n",
    "finalTrainDirectoryIterator = finalTrainGenerator.flow_from_directory(directory = finalTrainDirectory,\n",
    "                                                                      target_size = (256, 256),\n",
    "                                                                      class_mode = 'categorical',\n",
    "                                                                      batch_size = 128)\n",
    "\n",
    "testDirectoryIterator = testGenerator.flow_from_directory(directory = testDirectory,\n",
    "                                                                      target_size = (256, 256),\n",
    "                                                                      class_mode = 'categorical',\n",
    "                                                                      batch_size = 128)\n",
    "\n",
    "trainDirectoryIterator = trainGenerator.flow_from_directory(directory = trainDirectory,\n",
    "                                                                        target_size = (256, 256),\n",
    "                                                                        class_mode = 'categorical',\n",
    "                                                                        batch_size = 128)\n",
    "\n",
    "validationDirectoryIterator = validationGenerator.flow_from_directory(directory = validationDirectory,\n",
    "                                                                      target_size = (256, 256),\n",
    "                                                                      class_mode = 'categorical',\n",
    "                                                                      batch_size = 128)\n"
   ]
  },
  {
   "cell_type": "code",
   "execution_count": 37,
   "metadata": {},
   "outputs": [
    {
     "name": "stdout",
     "output_type": "stream",
     "text": [
      "Epoch 1/1\n",
      "62/62 [==============================] - 141s 2s/step - loss: 4.8046 - acc: 0.2494 - val_loss: 4.8535 - val_acc: 0.2500\n"
     ]
    }
   ],
   "source": [
    "\n",
    "#create the convolutional base \n",
    "convolutionalBase = VGG16( weights = 'imagenet',\n",
    "                           include_top = False,\n",
    "                           input_shape = ( 256, 256, 3 ) )\n",
    "\n",
    "#freeze the convolutional base\n",
    "convolutionalBase.trainable = False \n",
    "\n",
    "#create the sequential model with the VGG16 convolutional base\n",
    "sequentialModel = Sequential()\n",
    "sequentialModel.add( convolutionalBase )\n",
    "sequentialModel.add( Flatten() )\n",
    "sequentialModel.add( Dropout( 0.5 ) )\n",
    "sequentialModel.add( Dense( 512, activation = 'relu' ) )\n",
    "sequentialModel.add( Dense( 4, activation = 'sigmoid' ) )\n",
    "\n",
    "#compile the model\n",
    "sequentialModel.compile( optimizer = 'rmsprop',\n",
    "                       loss = 'categorical_crossentropy',\n",
    "                       metrics = [ 'acc' ] )\n",
    "\n",
    "#train the model\n",
    "sequentialModelHistory = sequentialModel.fit_generator( generator = trainDirectoryIterator,\n",
    "                                                         steps_per_epoch = 62,\n",
    "                                                         epochs = 1,\n",
    "                                                         verbose = True,\n",
    "                                                         validation_data = validationDirectoryIterator,\n",
    "                                                         validation_steps = 16 )\n",
    "\n",
    "#save the model\n",
    "sequentialModel.save( 'BloodTypeClassifierUsingVGG16Base.h5' )\n",
    "\n",
    "#retrieve the training history\n",
    "sequentialModelHistory = sequentialModelHistory.history\n",
    "\n",
    "\n"
   ]
  }
 ],
 "metadata": {
  "kernelspec": {
   "display_name": "Python 3",
   "language": "python",
   "name": "python3"
  },
  "language_info": {
   "codemirror_mode": {
    "name": "ipython",
    "version": 3
   },
   "file_extension": ".py",
   "mimetype": "text/x-python",
   "name": "python",
   "nbconvert_exporter": "python",
   "pygments_lexer": "ipython3",
   "version": "3.5.4"
  }
 },
 "nbformat": 4,
 "nbformat_minor": 2
}
